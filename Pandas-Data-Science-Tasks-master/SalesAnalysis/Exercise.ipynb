{
 "cells": [
  {
   "cell_type": "code",
   "execution_count": 5,
   "source": [
    "import pandas as pd\r\n",
    "from matplotlib import pyplot as plt\r\n",
    "import numpy\r\n",
    "import os"
   ],
   "outputs": [],
   "metadata": {}
  },
  {
   "cell_type": "markdown",
   "source": [
    "### **Combine All Sales data to 1 csv file**"
   ],
   "metadata": {}
  },
  {
   "cell_type": "code",
   "execution_count": 13,
   "source": [
    "all_file_name= [file for file in os.listdir(\"./Sales_Data\")]\r\n",
    "\r\n",
    "all_sales_data = pd.DataFrame()\r\n",
    "\r\n",
    "for file in all_file_name:\r\n",
    "    df = pd.read_csv(\"./Sales_Data/\" + file)\r\n",
    "    all_sales_data = pd.concat([all_sales_data,df])\r\n",
    "\r\n",
    "# all_sales_data.to_csv(\"All Sales Data 2019.csv\", index= False)\r\n"
   ],
   "outputs": [],
   "metadata": {}
  },
  {
   "cell_type": "code",
   "execution_count": null,
   "source": [],
   "outputs": [],
   "metadata": {}
  }
 ],
 "metadata": {
  "orig_nbformat": 4,
  "language_info": {
   "name": "python",
   "version": "3.9.7",
   "mimetype": "text/x-python",
   "codemirror_mode": {
    "name": "ipython",
    "version": 3
   },
   "pygments_lexer": "ipython3",
   "nbconvert_exporter": "python",
   "file_extension": ".py"
  },
  "kernelspec": {
   "name": "python3",
   "display_name": "Python 3.9.7 64-bit ('minimal_da': conda)"
  },
  "interpreter": {
   "hash": "38ac6c8bfbbce2c3ed8e72284ea73030e03b3f4ca271fa9df6c915c7ef60a882"
  }
 },
 "nbformat": 4,
 "nbformat_minor": 2
}